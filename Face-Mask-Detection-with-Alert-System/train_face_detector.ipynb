{
 "cells": [
  {
   "cell_type": "code",
   "execution_count": 1,
   "metadata": {},
   "outputs": [],
   "source": [
    "import tensorflow as tf\n",
    "from tensorflow.keras.preprocessing.image import ImageDataGenerator\n",
    "from tensorflow.keras.applications import MobileNetV2\n",
    "from tensorflow.keras.layers import AveragePooling2D\n",
    "from tensorflow.keras.layers import Dropout\n",
    "from tensorflow.keras.layers import Flatten\n",
    "from tensorflow.keras.layers import Dense\n",
    "from tensorflow.keras.layers import Input\n",
    "from tensorflow.keras.models import Model\n",
    "from tensorflow.keras.optimizers import Adam\n",
    "from tensorflow.keras.applications.mobilenet_v2 import preprocess_input\n",
    "from tensorflow.keras.preprocessing.image import img_to_array\n",
    "from tensorflow.keras.preprocessing.image import load_img\n",
    "from tensorflow.keras.utils import to_categorical\n",
    "from sklearn.preprocessing import LabelEncoder\n",
    "from sklearn.model_selection import train_test_split\n",
    "from sklearn.metrics import classification_report\n",
    "from imutils import paths\n",
    "import matplotlib.pyplot as plt\n",
    "import numpy as np\n",
    "import os"
   ]
  },
  {
   "cell_type": "code",
   "execution_count": 2,
   "metadata": {},
   "outputs": [],
   "source": [
    "INIT_LR = 0.001\n",
    "EPOCHS = 25\n",
    "BS = 32"
   ]
  },
  {
   "cell_type": "code",
   "execution_count": 3,
   "metadata": {},
   "outputs": [
    {
     "name": "stdout",
     "output_type": "stream",
     "text": [
      "[INFO] loading images...\n",
      "task completed\n"
     ]
    }
   ],
   "source": [
    "DIRECTORY = r\"C:\\Users\\ANIKET THAKUR\\Desktop\\FaceData\"\n",
    "CATEGORIES = [\"aniket\", \"shahnawaz\", \"tunavi\"]\n",
    "\n",
    "print(\"[INFO] loading images...\")\n",
    "\n",
    "data = []\n",
    "labels = []\n",
    "real_img=[]\n",
    "\n",
    "for category in CATEGORIES:\n",
    "    path = os.path.join(DIRECTORY, category)\n",
    "    for img in os.listdir(path):\n",
    "        img_path = os.path.join(path, img)\n",
    "        image = load_img(img_path, target_size=(224, 224))\n",
    "        real_img.append(image)\n",
    "        image = img_to_array(image)\n",
    "        image = preprocess_input(image)\n",
    "\n",
    "        data.append(image)\n",
    "        labels.append(category)\n",
    "print('task completed')"
   ]
  },
  {
   "cell_type": "code",
   "execution_count": 4,
   "metadata": {},
   "outputs": [],
   "source": [
    "le = LabelEncoder() \n",
    "  \n",
    "new_label=le.fit_transform(labels) \n",
    "labels=to_categorical(new_label)"
   ]
  },
  {
   "cell_type": "code",
   "execution_count": 5,
   "metadata": {},
   "outputs": [],
   "source": [
    "data = np.array(data, dtype=\"float32\") \n",
    "labels = np.array(labels)\n",
    "\n",
    "(trainX, testX, trainY, testY) = train_test_split(data, labels,test_size=0.20, stratify=labels, random_state=42)"
   ]
  },
  {
   "cell_type": "code",
   "execution_count": 6,
   "metadata": {},
   "outputs": [],
   "source": [
    "aug = ImageDataGenerator(rotation_range=20,zoom_range=0.30,\n",
    "                         width_shift_range=0.2,height_shift_range=0.2,\n",
    "                         shear_range=0.15,horizontal_flip=True,\n",
    "                         vertical_flip=True,fill_mode=\"nearest\")"
   ]
  },
  {
   "cell_type": "code",
   "execution_count": 7,
   "metadata": {},
   "outputs": [
    {
     "name": "stdout",
     "output_type": "stream",
     "text": [
      "WARNING:tensorflow:`input_shape` is undefined or non-square, or `rows` is not in [96, 128, 160, 192, 224]. Weights for input shape (224, 224) will be loaded as the default.\n"
     ]
    }
   ],
   "source": [
    "baseModel = MobileNetV2(weights=\"imagenet\", include_top=False,alpha=1.0,\n",
    "                        input_tensor=Input(shape=(224, 224, 3)))"
   ]
  },
  {
   "cell_type": "code",
   "execution_count": 8,
   "metadata": {},
   "outputs": [],
   "source": [
    "headModel=baseModel.output\n",
    "headModel = AveragePooling2D(pool_size=(7, 7),data_format=None,\n",
    "                             padding='valid')(headModel)\n",
    "#Flatten the output of our base model to 1 dimension\n",
    "headModel = Flatten(name=\"flatten\")(headModel)\n",
    "# Add a fully connected layer with 128 hidden units and ReLU activation\n",
    "headModel = Dense(128, activation=\"relu\")(headModel)\n",
    "#Add dropout rate of 0.5 \n",
    "headModel = Dropout(0.5)(headModel)\n",
    "# Add a final softmax layer for classification\n",
    "headModel = Dense(3, activation=\"softmax\")(headModel)"
   ]
  },
  {
   "cell_type": "code",
   "execution_count": 9,
   "metadata": {},
   "outputs": [],
   "source": [
    "model = Model(inputs=baseModel.input, outputs=headModel)"
   ]
  },
  {
   "cell_type": "code",
   "execution_count": 10,
   "metadata": {},
   "outputs": [
    {
     "name": "stdout",
     "output_type": "stream",
     "text": [
      "[INFO] compiling model...\n",
      "finished compiling\n"
     ]
    },
    {
     "name": "stderr",
     "output_type": "stream",
     "text": [
      "C:\\Anaconda\\lib\\site-packages\\keras\\optimizer_v2\\adam.py:105: UserWarning: The `lr` argument is deprecated, use `learning_rate` instead.\n",
      "  super(Adam, self).__init__(name, **kwargs)\n"
     ]
    }
   ],
   "source": [
    "\n",
    "for layer in baseModel.layers:\n",
    "    layer.trainable = False\n",
    "\n",
    "# compile our model\n",
    "print(\"[INFO] compiling model...\")\n",
    "opt = Adam(lr=INIT_LR, decay=INIT_LR / EPOCHS)\n",
    "model.compile(loss=\"categorical_crossentropy\", optimizer=opt,\n",
    "    metrics=[\"accuracy\"])\n",
    "print(\"finished compiling\")"
   ]
  },
  {
   "cell_type": "code",
   "execution_count": 11,
   "metadata": {},
   "outputs": [
    {
     "name": "stdout",
     "output_type": "stream",
     "text": [
      "[INFO] training head...\n",
      "Epoch 1/25\n",
      "30/30 [==============================] - 42s 1s/step - loss: 0.6011 - accuracy: 0.7344 - val_loss: 0.3856 - val_accuracy: 0.7750\n",
      "Epoch 2/25\n",
      "30/30 [==============================] - 39s 1s/step - loss: 0.2037 - accuracy: 0.9271 - val_loss: 0.0942 - val_accuracy: 0.9917\n",
      "Epoch 3/25\n",
      "30/30 [==============================] - 42s 1s/step - loss: 0.1248 - accuracy: 0.9510 - val_loss: 0.0383 - val_accuracy: 1.0000\n",
      "Epoch 4/25\n",
      "30/30 [==============================] - 39s 1s/step - loss: 0.1122 - accuracy: 0.9615 - val_loss: 0.0548 - val_accuracy: 0.9875\n",
      "Epoch 5/25\n",
      "30/30 [==============================] - 42s 1s/step - loss: 0.0894 - accuracy: 0.9667 - val_loss: 0.0488 - val_accuracy: 0.9958\n",
      "Epoch 6/25\n",
      "30/30 [==============================] - 40s 1s/step - loss: 0.0785 - accuracy: 0.9740 - val_loss: 0.0218 - val_accuracy: 1.0000\n",
      "Epoch 7/25\n",
      "30/30 [==============================] - 40s 1s/step - loss: 0.0689 - accuracy: 0.9802 - val_loss: 0.0134 - val_accuracy: 1.0000\n",
      "Epoch 8/25\n",
      "30/30 [==============================] - 48s 2s/step - loss: 0.0674 - accuracy: 0.9823 - val_loss: 0.0077 - val_accuracy: 1.0000\n",
      "Epoch 9/25\n",
      "30/30 [==============================] - 46s 2s/step - loss: 0.0652 - accuracy: 0.9812 - val_loss: 0.0071 - val_accuracy: 1.0000\n",
      "Epoch 10/25\n",
      "30/30 [==============================] - 48s 2s/step - loss: 0.0397 - accuracy: 0.9875 - val_loss: 0.0085 - val_accuracy: 1.0000\n",
      "Epoch 11/25\n",
      "30/30 [==============================] - 45s 1s/step - loss: 0.0420 - accuracy: 0.9865 - val_loss: 0.0109 - val_accuracy: 1.0000\n",
      "Epoch 12/25\n",
      "30/30 [==============================] - 45s 1s/step - loss: 0.0415 - accuracy: 0.9854 - val_loss: 0.0093 - val_accuracy: 1.0000\n",
      "Epoch 13/25\n",
      "30/30 [==============================] - 41s 1s/step - loss: 0.0401 - accuracy: 0.9854 - val_loss: 0.0037 - val_accuracy: 1.0000\n",
      "Epoch 14/25\n",
      "30/30 [==============================] - 41s 1s/step - loss: 0.0308 - accuracy: 0.9917 - val_loss: 0.0029 - val_accuracy: 1.0000\n",
      "Epoch 15/25\n",
      "30/30 [==============================] - 41s 1s/step - loss: 0.0468 - accuracy: 0.9865 - val_loss: 0.0059 - val_accuracy: 1.0000\n",
      "Epoch 16/25\n",
      "30/30 [==============================] - 41s 1s/step - loss: 0.0301 - accuracy: 0.9927 - val_loss: 0.0035 - val_accuracy: 1.0000\n",
      "Epoch 17/25\n",
      "30/30 [==============================] - 44s 1s/step - loss: 0.0481 - accuracy: 0.9854 - val_loss: 0.0056 - val_accuracy: 1.0000\n",
      "Epoch 18/25\n",
      "30/30 [==============================] - 45s 1s/step - loss: 0.0463 - accuracy: 0.9823 - val_loss: 0.0036 - val_accuracy: 1.0000\n",
      "Epoch 19/25\n",
      "30/30 [==============================] - 47s 2s/step - loss: 0.0322 - accuracy: 0.9917 - val_loss: 0.0048 - val_accuracy: 1.0000\n",
      "Epoch 20/25\n",
      "30/30 [==============================] - 46s 2s/step - loss: 0.0299 - accuracy: 0.9906 - val_loss: 0.0030 - val_accuracy: 1.0000\n",
      "Epoch 21/25\n",
      "30/30 [==============================] - 47s 2s/step - loss: 0.0285 - accuracy: 0.9948 - val_loss: 0.0028 - val_accuracy: 1.0000\n",
      "Epoch 22/25\n",
      "30/30 [==============================] - 44s 1s/step - loss: 0.0360 - accuracy: 0.9875 - val_loss: 0.0021 - val_accuracy: 1.0000\n",
      "Epoch 23/25\n",
      "30/30 [==============================] - 44s 1s/step - loss: 0.0482 - accuracy: 0.9833 - val_loss: 0.0043 - val_accuracy: 1.0000\n",
      "Epoch 24/25\n",
      "30/30 [==============================] - 42s 1s/step - loss: 0.0260 - accuracy: 0.9917 - val_loss: 0.0015 - val_accuracy: 1.0000\n",
      "Epoch 25/25\n",
      "30/30 [==============================] - 44s 1s/step - loss: 0.0163 - accuracy: 0.9958 - val_loss: 0.0011 - val_accuracy: 1.0000\n"
     ]
    }
   ],
   "source": [
    "print(\"[INFO] training head...\")\n",
    "H = model.fit(aug.flow(trainX, trainY, batch_size=BS),\n",
    "              steps_per_epoch=len(trainX) // BS,\n",
    "              validation_data=(testX, testY),\n",
    "              validation_steps=len(testX) // BS,\n",
    "              epochs=EPOCHS)"
   ]
  },
  {
   "cell_type": "code",
   "execution_count": 12,
   "metadata": {},
   "outputs": [
    {
     "name": "stdout",
     "output_type": "stream",
     "text": [
      "[INFO] evaluating network...\n"
     ]
    }
   ],
   "source": [
    "print(\"[INFO] evaluating network...\")\n",
    "prediction = model.predict(testX, batch_size=BS)"
   ]
  },
  {
   "cell_type": "code",
   "execution_count": 13,
   "metadata": {},
   "outputs": [
    {
     "name": "stdout",
     "output_type": "stream",
     "text": [
      "(240, 3)\n"
     ]
    },
    {
     "data": {
      "text/plain": [
       "array([[5.64838519e-05, 1.18153293e-05, 9.99931693e-01],\n",
       "       [9.99998689e-01, 1.24663632e-06, 1.19768927e-07],\n",
       "       [2.01351868e-04, 6.24382665e-05, 9.99736249e-01],\n",
       "       [7.19674631e-07, 6.14025157e-06, 9.99993086e-01],\n",
       "       [2.38886082e-06, 8.42479153e-07, 9.99996781e-01],\n",
       "       [7.97134419e-07, 9.99290228e-01, 7.08964828e-04],\n",
       "       [3.37041965e-05, 3.26253212e-05, 9.99933720e-01],\n",
       "       [9.99962568e-01, 5.27632302e-08, 3.74578849e-05],\n",
       "       [1.92952683e-07, 9.99990821e-01, 8.97279187e-06],\n",
       "       [3.63250147e-04, 5.39899738e-05, 9.99582708e-01],\n",
       "       [9.99990821e-01, 1.25767642e-07, 9.03648561e-06],\n",
       "       [1.83127938e-07, 2.89575360e-06, 9.99996901e-01],\n",
       "       [3.15522925e-06, 9.99169827e-01, 8.27121257e-04],\n",
       "       [9.86346560e-09, 9.99995112e-01, 4.84529619e-06],\n",
       "       [2.86793988e-06, 1.66874288e-05, 9.99980450e-01],\n",
       "       [1.17586137e-06, 9.99628544e-01, 3.70259600e-04],\n",
       "       [9.99998927e-01, 2.93440564e-07, 8.73940451e-07],\n",
       "       [3.13801022e-04, 3.71994029e-05, 9.99649048e-01],\n",
       "       [5.14100566e-06, 4.47079356e-06, 9.99990344e-01],\n",
       "       [1.21747539e-03, 1.51424960e-03, 9.97268319e-01],\n",
       "       [1.00000000e+00, 7.79168674e-10, 2.54522869e-09],\n",
       "       [2.38886082e-06, 8.42479153e-07, 9.99996781e-01],\n",
       "       [1.07802251e-07, 3.37972466e-07, 9.99999523e-01],\n",
       "       [1.66597783e-06, 9.99833345e-01, 1.64949364e-04],\n",
       "       [1.01292031e-07, 9.99825418e-01, 1.74483910e-04],\n",
       "       [2.25342816e-07, 6.36936920e-06, 9.99993443e-01],\n",
       "       [9.99992132e-01, 2.95081350e-07, 7.66581979e-06],\n",
       "       [4.91468381e-06, 9.98875916e-01, 1.11922680e-03],\n",
       "       [2.13206158e-06, 1.69579853e-05, 9.99980927e-01],\n",
       "       [1.38383584e-05, 1.54461832e-05, 9.99970675e-01],\n",
       "       [1.06365633e-05, 8.65967104e-06, 9.99980688e-01],\n",
       "       [9.99999642e-01, 4.76690083e-08, 3.55601486e-07],\n",
       "       [5.30002389e-08, 9.99998450e-01, 1.51530855e-06],\n",
       "       [9.99996543e-01, 4.82098876e-08, 3.50916775e-06],\n",
       "       [9.99021053e-01, 9.51376933e-07, 9.78003372e-04],\n",
       "       [9.99938607e-01, 4.32883371e-06, 5.71378550e-05],\n",
       "       [9.99969959e-01, 1.20783355e-07, 2.99444146e-05],\n",
       "       [1.47586468e-06, 4.63208742e-03, 9.95366454e-01],\n",
       "       [9.99939680e-01, 1.57355930e-06, 5.87141076e-05],\n",
       "       [6.56695105e-03, 5.05496282e-03, 9.88378108e-01],\n",
       "       [9.99998093e-01, 1.02814667e-07, 1.79853077e-06],\n",
       "       [9.99994993e-01, 1.01424831e-07, 4.90804268e-06],\n",
       "       [9.99999762e-01, 6.61557493e-08, 1.04326631e-07],\n",
       "       [1.62330025e-06, 2.51146071e-06, 9.99995828e-01],\n",
       "       [1.00000000e+00, 2.90052848e-09, 5.80029926e-08],\n",
       "       [9.99966025e-01, 9.22753031e-07, 3.30288822e-05],\n",
       "       [9.99989390e-01, 3.34340893e-06, 7.28251416e-06],\n",
       "       [9.99996901e-01, 3.65877611e-07, 2.71452450e-06],\n",
       "       [2.57667562e-05, 9.77656901e-01, 2.23173015e-02],\n",
       "       [3.77843011e-04, 2.95123846e-05, 9.99592602e-01],\n",
       "       [4.56466456e-04, 1.38205214e-04, 9.99405384e-01],\n",
       "       [2.61542358e-04, 5.46699630e-05, 9.99683857e-01],\n",
       "       [2.82319984e-03, 9.88165021e-01, 9.01183207e-03],\n",
       "       [9.99999046e-01, 8.89529339e-09, 8.96667643e-07],\n",
       "       [1.00000000e+00, 5.45615164e-10, 9.21963661e-09],\n",
       "       [4.44611345e-07, 9.99982834e-01, 1.66935151e-05],\n",
       "       [2.31007348e-07, 9.98762727e-01, 1.23707030e-03],\n",
       "       [4.70742464e-07, 9.99481142e-01, 5.18447021e-04],\n",
       "       [9.99999404e-01, 3.38870123e-08, 5.44901184e-07],\n",
       "       [9.99999762e-01, 9.43557623e-08, 1.11033096e-07],\n",
       "       [9.99999523e-01, 8.82546747e-09, 4.81122754e-07],\n",
       "       [9.99990225e-01, 7.49250830e-07, 9.09865503e-06],\n",
       "       [9.99879003e-01, 1.85260504e-07, 1.20795936e-04],\n",
       "       [2.87944818e-06, 5.00696478e-06, 9.99992132e-01],\n",
       "       [5.30002389e-08, 9.99998450e-01, 1.51530855e-06],\n",
       "       [1.09618057e-07, 9.99954700e-01, 4.52306776e-05],\n",
       "       [1.04891245e-04, 8.96267647e-06, 9.99886155e-01],\n",
       "       [9.86346560e-09, 9.99995112e-01, 4.84529619e-06],\n",
       "       [9.99999285e-01, 7.92825716e-09, 6.90437446e-07],\n",
       "       [9.99999881e-01, 2.17403358e-08, 1.57911202e-07],\n",
       "       [1.27810154e-07, 9.99926448e-01, 7.34356363e-05],\n",
       "       [1.13617089e-05, 9.99759495e-01, 2.29220925e-04],\n",
       "       [6.00842868e-05, 1.27773937e-05, 9.99927163e-01],\n",
       "       [5.20226173e-09, 9.99983430e-01, 1.66288410e-05],\n",
       "       [4.56466456e-04, 1.38205214e-04, 9.99405384e-01],\n",
       "       [2.65688277e-10, 9.99997139e-01, 2.90251978e-06],\n",
       "       [9.99371707e-01, 1.72557225e-06, 6.26676774e-04],\n",
       "       [1.92757810e-07, 9.99577463e-01, 4.22356010e-04],\n",
       "       [1.92733501e-06, 1.97504710e-06, 9.99996066e-01],\n",
       "       [1.78881771e-06, 9.99933958e-01, 6.42580053e-05],\n",
       "       [9.99936223e-01, 1.52470520e-07, 6.36860714e-05],\n",
       "       [7.32688079e-07, 1.57798326e-07, 9.99999166e-01],\n",
       "       [8.28526581e-08, 6.74269884e-08, 9.99999881e-01],\n",
       "       [4.22444600e-06, 7.32327771e-06, 9.99988437e-01],\n",
       "       [2.96161629e-09, 9.99994874e-01, 5.14388830e-06],\n",
       "       [2.08739802e-04, 3.11681288e-05, 9.99760091e-01],\n",
       "       [1.09618057e-07, 9.99954700e-01, 4.52306776e-05],\n",
       "       [9.99772608e-01, 1.45703029e-06, 2.25918644e-04],\n",
       "       [1.58497710e-06, 9.99981642e-01, 1.68657443e-05],\n",
       "       [4.06002187e-07, 9.99868631e-01, 1.31025008e-04],\n",
       "       [5.19418165e-07, 9.99972939e-01, 2.65628041e-05],\n",
       "       [3.58470089e-08, 9.99972343e-01, 2.76848023e-05],\n",
       "       [9.99984980e-01, 3.10475752e-06, 1.18691869e-05],\n",
       "       [9.99781072e-01, 1.03233269e-07, 2.18788744e-04],\n",
       "       [3.20617801e-05, 2.00437178e-04, 9.99767482e-01],\n",
       "       [6.05385026e-07, 9.99867201e-01, 1.32183384e-04],\n",
       "       [2.00547589e-07, 9.99955416e-01, 4.43687713e-05],\n",
       "       [6.30797858e-09, 9.99994397e-01, 5.63946242e-06],\n",
       "       [2.01351868e-04, 6.24382665e-05, 9.99736249e-01],\n",
       "       [1.04162937e-05, 9.96888340e-01, 3.10122827e-03],\n",
       "       [8.30720728e-06, 9.99937057e-01, 5.46161609e-05],\n",
       "       [9.99979496e-01, 4.35649008e-06, 1.61083099e-05],\n",
       "       [9.99998927e-01, 7.12944939e-08, 9.22635593e-07],\n",
       "       [9.99990940e-01, 2.70930218e-06, 6.34868002e-06],\n",
       "       [9.99989629e-01, 8.79741933e-08, 1.02185368e-05],\n",
       "       [1.95425190e-10, 9.99999166e-01, 8.26353926e-07],\n",
       "       [4.85595956e-06, 1.23638874e-05, 9.99982834e-01],\n",
       "       [1.10165752e-06, 3.72263207e-06, 9.99995232e-01],\n",
       "       [1.27214071e-06, 4.45361336e-04, 9.99553382e-01],\n",
       "       [9.88935517e-06, 9.99660611e-01, 3.29462753e-04],\n",
       "       [4.44611345e-07, 9.99982834e-01, 1.66935151e-05],\n",
       "       [7.32688079e-07, 1.57798326e-07, 9.99999166e-01],\n",
       "       [9.99999881e-01, 4.33637304e-09, 1.40161049e-07],\n",
       "       [5.88539979e-06, 1.83835894e-07, 9.99993920e-01],\n",
       "       [2.43052142e-07, 5.72392139e-07, 9.99999166e-01],\n",
       "       [9.99999046e-01, 4.65834695e-08, 9.14032000e-07],\n",
       "       [2.43052142e-07, 5.72392139e-07, 9.99999166e-01],\n",
       "       [7.75711353e-12, 1.00000000e+00, 4.94659425e-08],\n",
       "       [9.99897122e-01, 1.06964812e-07, 1.02735554e-04],\n",
       "       [9.99999166e-01, 4.03487235e-08, 8.39936490e-07],\n",
       "       [2.70025630e-05, 9.99789417e-01, 1.83549841e-04],\n",
       "       [9.99780476e-01, 7.44779754e-07, 2.18859146e-04],\n",
       "       [6.26598137e-07, 9.99978542e-01, 2.08232705e-05],\n",
       "       [1.57211093e-06, 2.04013475e-07, 9.99998212e-01],\n",
       "       [1.09459414e-07, 9.99988437e-01, 1.15004959e-05],\n",
       "       [2.63110820e-07, 9.98113036e-01, 1.88667874e-03],\n",
       "       [4.11251904e-06, 7.33537081e-06, 9.99988556e-01],\n",
       "       [3.94461749e-05, 9.99112546e-01, 8.48026713e-04],\n",
       "       [1.87362778e-10, 9.99997735e-01, 2.24592782e-06],\n",
       "       [9.99993920e-01, 2.42756323e-06, 3.72399063e-06],\n",
       "       [9.99991894e-01, 2.94454239e-08, 8.10475103e-06],\n",
       "       [9.99999762e-01, 8.13312226e-08, 9.59607291e-08],\n",
       "       [1.10780967e-08, 9.99312162e-01, 6.87886612e-04],\n",
       "       [9.99998927e-01, 1.20925051e-07, 9.10594281e-07],\n",
       "       [3.35743334e-06, 9.99856114e-01, 1.40525066e-04],\n",
       "       [4.12020910e-07, 9.23823961e-07, 9.99998689e-01],\n",
       "       [2.02712123e-04, 5.14521926e-05, 9.99745786e-01],\n",
       "       [9.99999523e-01, 6.82675561e-09, 5.17369926e-07],\n",
       "       [3.76777422e-07, 1.00749162e-06, 9.99998569e-01],\n",
       "       [9.99997735e-01, 2.95134782e-07, 2.08576262e-06],\n",
       "       [9.99963760e-01, 2.34888482e-08, 3.62005703e-05],\n",
       "       [9.55294672e-05, 5.99008818e-05, 9.99844551e-01],\n",
       "       [7.74530236e-06, 1.59064220e-04, 9.99833107e-01],\n",
       "       [2.74625427e-06, 6.79043296e-07, 9.99996543e-01],\n",
       "       [1.84774336e-07, 9.99957800e-01, 4.19339995e-05],\n",
       "       [9.99997735e-01, 2.19231970e-06, 1.13690767e-07],\n",
       "       [9.99997139e-01, 8.67686722e-08, 2.73963792e-06],\n",
       "       [2.02712123e-04, 5.14521926e-05, 9.99745786e-01],\n",
       "       [2.45950760e-05, 4.15302487e-03, 9.95822430e-01],\n",
       "       [9.99979973e-01, 5.17153069e-07, 1.95036173e-05],\n",
       "       [9.50313006e-06, 9.94715512e-01, 5.27503528e-03],\n",
       "       [2.03482187e-09, 9.99999762e-01, 2.90061678e-07],\n",
       "       [1.19925491e-04, 2.86367198e-04, 9.99593675e-01],\n",
       "       [7.14254043e-07, 9.36433613e-01, 6.35656938e-02],\n",
       "       [9.88935517e-06, 9.99660611e-01, 3.29462753e-04],\n",
       "       [9.99993801e-01, 6.62204647e-09, 6.18974855e-06],\n",
       "       [2.12241289e-07, 9.99693394e-01, 3.06353992e-04],\n",
       "       [1.13499665e-03, 7.23518257e-04, 9.98141527e-01],\n",
       "       [9.99999166e-01, 1.04058877e-07, 7.42308828e-07],\n",
       "       [9.04097863e-09, 9.99909639e-01, 9.03213731e-05],\n",
       "       [9.99976039e-01, 1.23473693e-08, 2.39659821e-05],\n",
       "       [9.99999642e-01, 1.15898843e-07, 2.53351175e-07],\n",
       "       [4.75591551e-05, 5.11793496e-06, 9.99947309e-01],\n",
       "       [1.22086776e-05, 7.97646862e-07, 9.99987006e-01],\n",
       "       [9.99993563e-01, 2.60603876e-08, 6.44294505e-06],\n",
       "       [9.99992728e-01, 2.45919910e-06, 4.75520392e-06],\n",
       "       [4.85595956e-06, 1.23638874e-05, 9.99982834e-01],\n",
       "       [8.24532071e-06, 2.10723078e-06, 9.99989629e-01],\n",
       "       [9.99999881e-01, 4.38065904e-08, 7.18478432e-08],\n",
       "       [3.54319525e-07, 9.99274194e-01, 7.25500402e-04],\n",
       "       [9.99996066e-01, 1.36234320e-07, 3.86744887e-06],\n",
       "       [2.31986378e-05, 3.02977748e-02, 9.69679058e-01],\n",
       "       [2.04653998e-06, 2.62336598e-05, 9.99971747e-01],\n",
       "       [1.10842768e-04, 1.82538982e-02, 9.81635213e-01],\n",
       "       [3.45258655e-10, 9.99998689e-01, 1.26064572e-06],\n",
       "       [1.27214071e-06, 4.45361336e-04, 9.99553382e-01],\n",
       "       [9.55294672e-05, 5.99008818e-05, 9.99844551e-01],\n",
       "       [7.05051884e-09, 9.99975085e-01, 2.49586865e-05],\n",
       "       [9.91520324e-07, 4.51954111e-05, 9.99953866e-01],\n",
       "       [2.92923075e-10, 9.99995947e-01, 4.10147595e-06],\n",
       "       [9.99973178e-01, 5.60945992e-08, 2.67683099e-05],\n",
       "       [2.97725204e-08, 9.99986172e-01, 1.37770385e-05],\n",
       "       [9.99999285e-01, 1.86951766e-07, 4.62642106e-07],\n",
       "       [1.00000000e+00, 3.36925066e-09, 1.29962672e-08],\n",
       "       [9.99987125e-01, 2.11326579e-07, 1.26052246e-05],\n",
       "       [2.53459757e-06, 9.99399781e-01, 5.97731443e-04],\n",
       "       [1.00000000e+00, 3.07929966e-08, 1.33069005e-08],\n",
       "       [9.99999046e-01, 5.05634546e-07, 5.24342568e-07],\n",
       "       [2.00614704e-06, 9.96271968e-01, 3.72604979e-03],\n",
       "       [1.00000000e+00, 3.27326632e-09, 4.62805017e-10],\n",
       "       [9.99946952e-01, 6.38143661e-07, 5.23959425e-05],\n",
       "       [1.58458727e-03, 9.72098380e-04, 9.97443318e-01],\n",
       "       [9.99999881e-01, 5.52465051e-09, 9.14461253e-08],\n",
       "       [9.99562681e-01, 1.68280837e-06, 4.35651018e-04],\n",
       "       [2.08455049e-06, 9.99910474e-01, 8.74928082e-05],\n",
       "       [1.60870004e-05, 9.98657465e-01, 1.32647459e-03],\n",
       "       [7.67196306e-10, 9.99995232e-01, 4.74219132e-06],\n",
       "       [9.99997973e-01, 1.53367651e-07, 1.91502272e-06],\n",
       "       [2.46154559e-06, 1.96009114e-06, 9.99995589e-01],\n",
       "       [2.12241289e-07, 9.99693394e-01, 3.06353992e-04],\n",
       "       [2.87944272e-06, 5.00694568e-06, 9.99992132e-01],\n",
       "       [9.99986291e-01, 3.37424204e-08, 1.37618608e-05],\n",
       "       [9.90639455e-06, 1.75276418e-05, 9.99972582e-01],\n",
       "       [3.49707043e-05, 1.10534438e-05, 9.99953985e-01],\n",
       "       [1.26508746e-06, 1.33678941e-05, 9.99985337e-01],\n",
       "       [1.19186848e-06, 9.98075008e-01, 1.92379486e-03],\n",
       "       [5.15762054e-07, 9.99966383e-01, 3.31516203e-05],\n",
       "       [1.75476544e-07, 1.04262199e-05, 9.99989390e-01],\n",
       "       [9.99834299e-01, 5.61879965e-08, 1.65717880e-04],\n",
       "       [3.08392075e-04, 9.79184747e-01, 2.05068663e-02],\n",
       "       [1.67733233e-05, 5.12578617e-06, 9.99978065e-01],\n",
       "       [9.99997377e-01, 2.96240643e-07, 2.41516659e-06],\n",
       "       [1.17498411e-08, 9.99992371e-01, 7.65244658e-06],\n",
       "       [3.30224623e-07, 9.99920487e-01, 7.92000719e-05],\n",
       "       [2.45630654e-05, 9.96543825e-01, 3.43156722e-03],\n",
       "       [2.47607313e-05, 4.85047312e-05, 9.99926686e-01],\n",
       "       [7.44970066e-07, 4.37199833e-06, 9.99994874e-01],\n",
       "       [2.91511096e-04, 9.96335802e-05, 9.99608934e-01],\n",
       "       [1.97970112e-05, 4.66478923e-05, 9.99933600e-01],\n",
       "       [1.64438779e-06, 9.98895764e-01, 1.10253110e-03],\n",
       "       [9.99997377e-01, 2.44054178e-07, 2.41085195e-06],\n",
       "       [9.99995351e-01, 1.04867816e-07, 4.50965581e-06],\n",
       "       [5.12574297e-06, 3.91801734e-07, 9.99994516e-01],\n",
       "       [9.99998569e-01, 1.69597474e-08, 1.42554404e-06],\n",
       "       [2.12241289e-07, 9.99693394e-01, 3.06353992e-04],\n",
       "       [3.49228877e-08, 9.99998689e-01, 1.34295681e-06],\n",
       "       [1.04099875e-10, 9.99999762e-01, 2.41624491e-07],\n",
       "       [7.01575061e-07, 9.97798622e-01, 2.20066332e-03],\n",
       "       [2.56566709e-04, 8.40372959e-05, 9.99659419e-01],\n",
       "       [5.36852212e-06, 9.86325562e-01, 1.36690745e-02],\n",
       "       [9.99990702e-01, 5.29267901e-08, 9.24787582e-06],\n",
       "       [8.07721556e-10, 9.99988675e-01, 1.13163705e-05],\n",
       "       [9.99822080e-01, 1.07711662e-06, 1.76850313e-04],\n",
       "       [2.03482187e-09, 9.99999762e-01, 2.90061678e-07],\n",
       "       [1.62330025e-06, 2.51146071e-06, 9.99995828e-01],\n",
       "       [4.01542053e-08, 6.12218969e-08, 9.99999881e-01],\n",
       "       [4.65167159e-06, 9.98841107e-01, 1.15426094e-03],\n",
       "       [9.99996901e-01, 5.38490319e-09, 3.06227571e-06],\n",
       "       [1.36910865e-06, 9.99328494e-01, 6.70191192e-04],\n",
       "       [8.09051699e-07, 2.22648328e-06, 9.99997020e-01]], dtype=float32)"
      ]
     },
     "execution_count": 13,
     "metadata": {},
     "output_type": "execute_result"
    }
   ],
   "source": [
    "print(prediction.shape)\n",
    "prediction"
   ]
  },
  {
   "cell_type": "code",
   "execution_count": 14,
   "metadata": {},
   "outputs": [
    {
     "name": "stdout",
     "output_type": "stream",
     "text": [
      "(240,)\n"
     ]
    },
    {
     "data": {
      "text/plain": [
       "array([2, 0, 2, 2, 2, 1, 2, 0, 1, 2, 0, 2, 1, 1, 2, 1, 0, 2, 2, 2, 0, 2,\n",
       "       2, 1, 1, 2, 0, 1, 2, 2, 2, 0, 1, 0, 0, 0, 0, 2, 0, 2, 0, 0, 0, 2,\n",
       "       0, 0, 0, 0, 1, 2, 2, 2, 1, 0, 0, 1, 1, 1, 0, 0, 0, 0, 0, 2, 1, 1,\n",
       "       2, 1, 0, 0, 1, 1, 2, 1, 2, 1, 0, 1, 2, 1, 0, 2, 2, 2, 1, 2, 1, 0,\n",
       "       1, 1, 1, 1, 0, 0, 2, 1, 1, 1, 2, 1, 1, 0, 0, 0, 0, 1, 2, 2, 2, 1,\n",
       "       1, 2, 0, 2, 2, 0, 2, 1, 0, 0, 1, 0, 1, 2, 1, 1, 2, 1, 1, 0, 0, 0,\n",
       "       1, 0, 1, 2, 2, 0, 2, 0, 0, 2, 2, 2, 1, 0, 0, 2, 2, 0, 1, 1, 2, 1,\n",
       "       1, 0, 1, 2, 0, 1, 0, 0, 2, 2, 0, 0, 2, 2, 0, 1, 0, 2, 2, 2, 1, 2,\n",
       "       2, 1, 2, 1, 0, 1, 0, 0, 0, 1, 0, 0, 1, 0, 0, 2, 0, 0, 1, 1, 1, 0,\n",
       "       2, 1, 2, 0, 2, 2, 2, 1, 1, 2, 0, 1, 2, 0, 1, 1, 1, 2, 2, 2, 2, 1,\n",
       "       0, 0, 2, 0, 1, 1, 1, 1, 2, 1, 0, 1, 0, 1, 2, 2, 1, 0, 1, 2],\n",
       "      dtype=int64)"
      ]
     },
     "execution_count": 14,
     "metadata": {},
     "output_type": "execute_result"
    }
   ],
   "source": [
    "predIdxs = np.argmax(prediction, axis=1)\n",
    "print(predIdxs.shape)\n",
    "predIdxs\n"
   ]
  },
  {
   "cell_type": "code",
   "execution_count": 15,
   "metadata": {},
   "outputs": [
    {
     "name": "stdout",
     "output_type": "stream",
     "text": [
      "              precision    recall  f1-score   support\n",
      "\n",
      "      aniket       1.00      1.00      1.00        80\n",
      "   shahnawaz       1.00      1.00      1.00        80\n",
      "      tunavi       1.00      1.00      1.00        80\n",
      "\n",
      "    accuracy                           1.00       240\n",
      "   macro avg       1.00      1.00      1.00       240\n",
      "weighted avg       1.00      1.00      1.00       240\n",
      "\n"
     ]
    }
   ],
   "source": [
    "print(classification_report(testY.argmax(axis=1), predIdxs,\n",
    "    target_names=le.classes_))"
   ]
  },
  {
   "cell_type": "code",
   "execution_count": 16,
   "metadata": {},
   "outputs": [
    {
     "name": "stdout",
     "output_type": "stream",
     "text": [
      "saving mask detector model...\n"
     ]
    }
   ],
   "source": [
    "print(\"saving mask detector model...\")\n",
    "model.save(\"face_recog_ani_shah_tuna.model\", save_format=\"h5\")\n"
   ]
  },
  {
   "cell_type": "code",
   "execution_count": 17,
   "metadata": {},
   "outputs": [
    {
     "data": {
      "image/png": "[encoded data removed]",
      "text/plain": [
       "<Figure size 720x480 with 1 Axes>"
      ]
     },
     "metadata": {
      "needs_background": "light"
     },
     "output_type": "display_data"
    }
   ],
   "source": [
    "N = EPOCHS\n",
    "plt.figure(dpi=120)\n",
    "plt.plot(range(0, N), H.history[\"loss\"], label=\"Train_loss\")\n",
    "plt.plot(range(0,N),H.history[\"val_loss\"], label=\"val_Loss\")\n",
    "plt.title(\"Training Loss\")\n",
    "plt.xlabel(\"Epoch \")\n",
    "plt.ylabel(\"Loss\")\n",
    "plt.legend(loc=\"lower left\")\n",
    "plt.show()\n",
    "\n",
    "\n"
   ]
  },
  {
   "cell_type": "code",
   "execution_count": 36,
   "metadata": {},
   "outputs": [
    {
     "data": {
      "image/png": "[encoded data removed]",
      "text/plain": [
       "<Figure size 720x480 with 1 Axes>"
      ]
     },
     "metadata": {
      "needs_background": "light"
     },
     "output_type": "display_data"
    }
   ],
   "source": [
    "N = EPOCHS\n",
    "plt.figure(dpi=120)\n",
    "plt.plot(range(0, N), H.history[\"accuracy\"], label=\"Train_Accuracy\")\n",
    "plt.plot(range(0,N),H.history[\"val_accuracy\"], label=\"val_Accuracy\")\n",
    "plt.title(\"Training Accuracy\")\n",
    "plt.xlabel(\"Epoch \")\n",
    "plt.ylabel(\"Accuracy\")\n",
    "plt.legend(loc=\"lower left\")\n",
    "plt.show()\n",
    "\n"
   ]
  },
  {
   "cell_type": "code",
   "execution_count": null,
   "metadata": {},
   "outputs": [],
   "source": []
  }
 ],
 "metadata": {
  "kernelspec": {
   "display_name": "Python 3",
   "language": "python",
   "name": "python3"
  },
  "language_info": {
   "codemirror_mode": {
    "name": "ipython",
    "version": 3
   },
   "file_extension": ".py",
   "mimetype": "text/x-python",
   "name": "python",
   "nbconvert_exporter": "python",
   "pygments_lexer": "ipython3",
   "version": "3.8.8"
  }
 },
 "nbformat": 4,
 "nbformat_minor": 4
}
