{
 "cells": [
  {
   "cell_type": "code",
   "execution_count": 11,
   "metadata": {},
   "outputs": [],
   "source": [
    "from tensorflow.keras.applications.mobilenet_v2 import preprocess_input\n",
    "from tensorflow.keras.preprocessing.image import img_to_array\n",
    "from tensorflow.keras.models import load_model\n",
    "from imutils.video import VideoStream\n",
    "from tensorflow import keras\n",
    "import tensorflow as tf\n",
    "import numpy as np\n",
    "import imutils\n",
    "import time\n",
    "import cv2\n",
    "import os\n",
    "import smtplib\n",
    "from email.message import EmailMessage\n",
    "import time\n",
    "import threading\n",
    "import datetime"
   ]
  },
  {
   "cell_type": "code",
   "execution_count": 12,
   "metadata": {},
   "outputs": [],
   "source": [
    "def detect_and_predict_mask(frame, faceNet, maskNet):\n",
    "    # grab the dimensions of the frame and then construct a blob\n",
    "    # from it\n",
    "    (h, w) = frame.shape[:2]\n",
    "    blob = cv2.dnn.blobFromImage(frame, 1.0, (224, 224),\n",
    "        (104.0, 177.0, 123.0))\n",
    "\n",
    "    # pass the blob through the network and obtain the face detections\n",
    "    faceNet.setInput(blob)\n",
    "    detections = faceNet.forward()\n",
    "\n",
    "    faces = []\n",
    "    locs = []\n",
    "    preds = []\n",
    "\n",
    "    # loop over the detections\n",
    "    for i in range(0, detections.shape[2]):\n",
    "        confidence = detections[0, 0, i, 2]\n",
    "\n",
    "        if confidence > 0.5:\n",
    "            box = detections[0, 0, i, 3:7] * np.array([w, h, w, h])\n",
    "            (startX, startY, endX, endY) = box.astype(\"int\")\n",
    "\n",
    "            (startX, startY) = (max(0, startX), max(0, startY))\n",
    "            (endX, endY) = (min(w - 1, endX), min(h - 1, endY))\n",
    "\n",
    "            face = frame[startY:endY, startX:endX]\n",
    "            face = cv2.cvtColor(face, cv2.COLOR_BGR2RGB)\n",
    "            face = cv2.resize(face, (224, 224))\n",
    "            face = img_to_array(face)\n",
    "            face = preprocess_input(face)\n",
    "\n",
    "            faces.append(face)\n",
    "            locs.append((startX, startY, endX, endY))\n",
    "\n",
    "    if len(faces) > 0:\n",
    "\n",
    "        faces = np.array(faces, dtype=\"float32\")\n",
    "        preds = maskNet.predict(faces, batch_size=32)\n",
    "\n",
    "    return (locs, preds)"
   ]
  },
  {
   "cell_type": "code",
   "execution_count": 13,
   "metadata": {},
   "outputs": [],
   "source": [
    "# load our serialized face detector model from disk\n",
    "prototxtPath = r\"face_detector\\deploy.prototxt\"\n",
    "weightsPath = r\"face_detector\\res10_300x300_ssd_iter_140000.caffemodel\"\n",
    "faceNet = cv2.dnn.readNet(prototxtPath, weightsPath)"
   ]
  },
  {
   "cell_type": "code",
   "execution_count": 14,
   "metadata": {},
   "outputs": [],
   "source": [
    "# load the face mask detector model from disk\n",
    "recogNet = load_model(r\"face_recog_ani_shah_tuna.model\")\n",
    "maskNet = load_model(r\"mask_detector_final.model\")"
   ]
  },
  {
   "cell_type": "code",
   "execution_count": 15,
   "metadata": {},
   "outputs": [],
   "source": [
    "def email_alert(subject,body, to):\n",
    "    msg=EmailMessage()\n",
    "    msg.set_content(body)\n",
    "    msg['subject'] = subject\n",
    "    msg['to'] = to\n",
    "    user= \"cse.setnu.1703170@gmail.com\"\n",
    "    msg['from']= user\n",
    "    password=\"wysncrwfnoevdvwl\"\n",
    "    \n",
    "    server = smtplib.SMTP(\"smtp.gmail.com\", 587)\n",
    "    server.starttls()\n",
    "    server.login(user,password)\n",
    "    server.send_message(msg)\n",
    "    \n",
    "    server.quit()\n"
   ]
  },
  {
   "cell_type": "code",
   "execution_count": 16,
   "metadata": {},
   "outputs": [],
   "source": [
    "total_count=0\n",
    "count={\"aniket\":0,\"shahnawaz\":0,\"tunavi\":0}\n",
    "flag={\"aniket\":0,\"shahnawaz\":0,\"tunavi\":0}\n",
    "detect={\"aniket\":0,\"shahnawaz\":0,\"tunavi\":0}\n",
    "to={\"aniket\":\"aniketthakurcse@gmail.com\",\"shahnawaz\":\"sahmed9957@gmail.com\",\"tunavi\":\"tunafishyepz@gmail.com\"}\n",
    "subject=\"COVID-19 Mask Rule Violated by YOU!\"\n",
    "body=\"Dear Employee,\\nYou have been found violating rule by not wearning a mask!\\n Please ensure safety protocol is being followed by you.\"\n",
    "\n",
    "\n",
    "def decrease_time(rec):\n",
    "    print(\"\\n\"+str(rec) +\" is released...\\n\")\n",
    "    detect[rec]=0\n",
    "    flag[rec]=0\n",
    "#def speak_message(audio):\n",
    "    #engine.say(audio)\n",
    "    #engine.runAndWait()\n",
    "\n",
    "def message(rec):\n",
    "    if flag[rec]==0 :  \n",
    "        current_time=datetime.datetime.now().strftime(\"%H:%M:%S\") \n",
    "        print(\"\\nmessage sent to \" + rec+\".... at \"+ str(current_time))\n",
    "\n",
    "        email_alert(subject,body,to[rec])\n",
    "    \n",
    "        flag[rec]=1\n",
    "        count[rec]+=1\n",
    "        detect[rec]=0\n",
    "        delay=180                    \n",
    "        thread_start=threading.Timer(delay,decrease_time,[rec])\n",
    "        thread_start.start()\n",
    "        \n",
    "        \n",
    "def call_message(rec):\n",
    "    if flag[rec]==0:\n",
    "        message(rec)"
   ]
  },
  {
   "cell_type": "code",
   "execution_count": 17,
   "metadata": {},
   "outputs": [
    {
     "data": {
      "text/plain": [
       "({'aniket': 0, 'shahnawaz': 0, 'tunavi': 0},\n",
       " {'aniket': 0, 'shahnawaz': 0, 'tunavi': 0})"
      ]
     },
     "execution_count": 17,
     "metadata": {},
     "output_type": "execute_result"
    }
   ],
   "source": [
    "flag,count"
   ]
  },
  {
   "cell_type": "code",
   "execution_count": 18,
   "metadata": {},
   "outputs": [],
   "source": [
    "def recog_face(frame,faceNet,recogNet):\n",
    "    (locs, preds) = detect_and_predict_mask(frame, faceNet,recogNet)\n",
    "    for (box, pred) in zip(locs, preds):\n",
    "        (startX, startY, endX, endY) = box\n",
    "        (aniket,shahnawaz,tunavi) = pred\n",
    "\n",
    "        if aniket>0.80:\n",
    "            label=\"aniket\"\n",
    "        elif shahnawaz>0.80:\n",
    "            label=\"shahnawaz\"\n",
    "        elif tunavi>0.80:\n",
    "            label=\"tunavi\"\n",
    "        else:\n",
    "            label=\"Not Found\"\n",
    "        \n",
    "        if label != \"Not Found\": \n",
    "            detect[label]+=1\n",
    "            if detect[label]>15:\n",
    "                call_message(label)\n",
    "        \n",
    "            print(label+\" is fouded for\"+ str(detect[label])+\" time\")\n",
    "            \n",
    "            label = \"{}: {:.2f}%\".format(label, max(aniket, shahnawaz, tunavi) * 100)\n",
    "        return label\n",
    "       "
   ]
  },
  {
   "cell_type": "code",
   "execution_count": 19,
   "metadata": {},
   "outputs": [
    {
     "name": "stdout",
     "output_type": "stream",
     "text": [
      "[Starting video stream...\n",
      "aniket is fouded for1 time\n",
      "aniket is fouded for2 time\n",
      "aniket is fouded for3 time\n",
      "aniket is fouded for4 time\n",
      "aniket is fouded for5 time\n",
      "aniket is fouded for6 time\n",
      "aniket is fouded for7 time\n",
      "aniket is fouded for8 time\n",
      "aniket is fouded for9 time\n",
      "aniket is fouded for10 time\n",
      "aniket is fouded for11 time\n",
      "aniket is fouded for12 time\n",
      "aniket is fouded for13 time\n",
      "aniket is fouded for14 time\n",
      "aniket is fouded for15 time\n",
      "\n",
      "message sent to aniket.... at 12:33:26\n",
      "aniket is fouded for0 time\n",
      "aniket is fouded for1 time\n",
      "aniket is fouded for2 time\n",
      "aniket is fouded for3 time\n",
      "aniket is fouded for4 time\n",
      "aniket is fouded for5 time\n"
     ]
    }
   ],
   "source": [
    "print(\"[Starting video stream...\")\n",
    "vs = VideoStream(\"http://192.168.203.115:8080/video\").start()\n",
    "\n",
    "while True:\n",
    "    frame = vs.read()\n",
    "    frame = imutils.resize(frame, width=600)\n",
    "\n",
    "    (locs, preds) = detect_and_predict_mask(frame, faceNet, maskNet)\n",
    "\n",
    "    for (box, pred) in zip(locs, preds):\n",
    "        (startX, startY, endX, endY) = box\n",
    "        (mask, withoutMask) = pred\n",
    "\n",
    "        label1 = \"Mask\" if mask > withoutMask else \"No Mask\"\n",
    "        color = (0, 255, 0) if label1 == \"Mask\" else (0, 0, 255)\n",
    "        \n",
    "        if label1==\"No Mask\":\n",
    "            label_recog=recog_face(frame,faceNet,recogNet)\n",
    "            cv2.putText(frame, label_recog, (startX, endY +15),cv2.FONT_HERSHEY_SIMPLEX, 0.45, (255, 0, 0), 2)\n",
    "       \n",
    "        label1 = \"{}: {:.2f}%\".format(label1, max(mask, withoutMask) * 100)\n",
    "    \n",
    "        cv2.putText(frame, label1, (startX, startY - 10), cv2.FONT_HERSHEY_SIMPLEX, 0.45, color, 2)\n",
    "        cv2.rectangle(frame, (startX, startY), (endX, endY), color, 2)\n",
    "\n",
    "        cv2.imshow(\"Frame\", frame)\n",
    "\n",
    "    if cv2.waitKey(10) == ord('q'):\n",
    "        break\n",
    "\n",
    "cv2.destroyAllWindows()\n",
    "vs.stop()"
   ]
  },
  {
   "cell_type": "code",
   "execution_count": 20,
   "metadata": {},
   "outputs": [
    {
     "name": "stdout",
     "output_type": "stream",
     "text": [
      "\n",
      "aniket is released...\n",
      "\n"
     ]
    }
   ],
   "source": [
    "#count"
   ]
  },
  {
   "cell_type": "code",
   "execution_count": null,
   "metadata": {},
   "outputs": [],
   "source": []
  }
 ],
 "metadata": {
  "kernelspec": {
   "display_name": "Python 3",
   "language": "python",
   "name": "python3"
  },
  "language_info": {
   "codemirror_mode": {
    "name": "ipython",
    "version": 3
   },
   "file_extension": ".py",
   "mimetype": "text/x-python",
   "name": "python",
   "nbconvert_exporter": "python",
   "pygments_lexer": "ipython3",
   "version": "3.8.8"
  }
 },
 "nbformat": 4,
 "nbformat_minor": 4
}
