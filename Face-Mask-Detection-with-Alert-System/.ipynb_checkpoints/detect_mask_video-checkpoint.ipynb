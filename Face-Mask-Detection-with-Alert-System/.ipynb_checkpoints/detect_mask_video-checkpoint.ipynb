{
 "cells": [
  {
   "cell_type": "code",
   "execution_count": 1,
   "metadata": {},
   "outputs": [],
   "source": [
    "from tensorflow.keras.applications.mobilenet_v2 import preprocess_input\n",
    "from tensorflow.keras.preprocessing.image import img_to_array\n",
    "from tensorflow.keras.models import load_model\n",
    "from imutils.video import VideoStream\n",
    "from tensorflow import keras\n",
    "import tensorflow as tf\n",
    "import numpy as np\n",
    "import imutils\n",
    "import time\n",
    "import cv2\n",
    "import os\n",
    "# for sending email\n",
    "import smtplib\n",
    "from email.message import EmailMessage\n",
    "import time\n",
    "import threading\n",
    "import datetime"
   ]
  },
  {
   "cell_type": "code",
   "execution_count": 2,
   "metadata": {},
   "outputs": [],
   "source": [
    "# at last rmove >>>------- comment line\n",
    "def detect_and_predict_mask(frame, faceNet, maskNet):\n",
    "    # grab the dimensions of the frame and then construct a blob\n",
    "    # from it\n",
    "    (h, w) = frame.shape[:2]\n",
    "    blob = cv2.dnn.blobFromImage(frame, 1.0, (224, 224),\n",
    "        (104.0, 177.0, 123.0))\n",
    "\n",
    "    # pass the blob through the network and obtain the face detections\n",
    "    faceNet.setInput(blob)\n",
    "    detections = faceNet.forward()\n",
    "#>>>-------     print(detections.shape)\n",
    "\n",
    "    # initialize our list of faces, their corresponding locations,\n",
    "    # and the list of predictions from our face mask network\n",
    "    faces = []\n",
    "    locs = []\n",
    "    preds = []\n",
    "\n",
    "    # loop over the detections\n",
    "    for i in range(0, detections.shape[2]):\n",
    "        # extract the confidence (i.e., probability) associated with\n",
    "        # the detection\n",
    "        confidence = detections[0, 0, i, 2]\n",
    "\n",
    "        # filter out weak detections by ensuring the confidence is\n",
    "        # greater than the minimum confidence\n",
    "        if confidence > 0.5:\n",
    "            # compute the (x, y)-coordinates of the bounding box for\n",
    "            # the object\n",
    "            box = detections[0, 0, i, 3:7] * np.array([w, h, w, h])\n",
    "            (startX, startY, endX, endY) = box.astype(\"int\")\n",
    "\n",
    "            # ensure the bounding boxes fall within the dimensions of\n",
    "            # the frame\n",
    "            (startX, startY) = (max(0, startX), max(0, startY))\n",
    "            (endX, endY) = (min(w - 1, endX), min(h - 1, endY))\n",
    "\n",
    "            # extract the face ROI, convert it from BGR to RGB channel\n",
    "            # ordering, resize it to 224x224, and preprocess it\n",
    "            face = frame[startY:endY, startX:endX]\n",
    "            face = cv2.cvtColor(face, cv2.COLOR_BGR2RGB)\n",
    "            face = cv2.resize(face, (224, 224))\n",
    "            face = img_to_array(face)\n",
    "            face = preprocess_input(face)\n",
    "\n",
    "            # add the face and bounding boxes to their respective\n",
    "            # lists\n",
    "            faces.append(face)\n",
    "            locs.append((startX, startY, endX, endY))\n",
    "\n",
    "    # only make a predictions if at least one face was detected\n",
    "    if len(faces) > 0:\n",
    "        # for faster inference we'll make batch predictions on *all*\n",
    "        # faces at the same time rather than one-by-one predictions\n",
    "        # in the above `for` loop\n",
    "        faces = np.array(faces, dtype=\"float32\")\n",
    "        preds = maskNet.predict(faces, batch_size=32)\n",
    "#>>>-------         print(preds)\n",
    "\n",
    "    # return a 2-tuple of the face locations and their corresponding\n",
    "    # locations\n",
    "    return (locs, preds)"
   ]
  },
  {
   "cell_type": "code",
   "execution_count": 3,
   "metadata": {},
   "outputs": [],
   "source": [
    "# load our serialized face detector model from disk\n",
    "prototxtPath = r\"face_detector\\deploy.prototxt\"\n",
    "weightsPath = r\"face_detector\\res10_300x300_ssd_iter_140000.caffemodel\"\n",
    "faceNet = cv2.dnn.readNet(prototxtPath, weightsPath)"
   ]
  },
  {
   "cell_type": "code",
   "execution_count": 4,
   "metadata": {},
   "outputs": [],
   "source": [
    "# load the face mask detector model from disk\n",
    "recogNet = load_model(r\"face_recog_aniket_binay_new.model\")\n",
    "maskNet = load_model(r\"mask_detector_final.model\")"
   ]
  },
  {
   "cell_type": "code",
   "execution_count": 5,
   "metadata": {},
   "outputs": [
    {
     "data": {
      "text/plain": [
       "'\\ndef email_alert(subject,body, to):\\n    msg=EmailMessage()\\n    msg.set_content(body)\\n    msg[\\'subject\\'] = subject\\n    msg[\\'to\\'] = to\\n    user= \"alert7359@gmail.com\"\\n    msg[\\'from\\']= user\\n    password=\"dgdupzeguzfythet\"\\n    \\n    server = smtplib.SMTP(\"smtp.gmail.com\", 587)\\n    server.starttls()\\n    server.login(user,password)\\n    server.send_message(msg)\\n    \\n    server.quit()\\n'"
      ]
     },
     "execution_count": 5,
     "metadata": {},
     "output_type": "execute_result"
    }
   ],
   "source": [
    "# for sending email alert\n",
    "'''\n",
    "def email_alert(subject,body, to):\n",
    "    msg=EmailMessage()\n",
    "    msg.set_content(body)\n",
    "    msg['subject'] = subject\n",
    "    msg['to'] = to\n",
    "    user= \"alert7359@gmail.com\"\n",
    "    msg['from']= user\n",
    "    password=\"dgdupzeguzfythet\"\n",
    "    \n",
    "    server = smtplib.SMTP(\"smtp.gmail.com\", 587)\n",
    "    server.starttls()\n",
    "    server.login(user,password)\n",
    "    server.send_message(msg)\n",
    "    \n",
    "    server.quit()\n",
    "'''"
   ]
  },
  {
   "cell_type": "code",
   "execution_count": 6,
   "metadata": {},
   "outputs": [],
   "source": [
    "# threading..\n",
    "\n",
    "total_count=0\n",
    "count={\"aniket\":0,\"binay\":0}\n",
    "flag={\"aniket\":0,\"binay\":0}\n",
    "detect={\"aniket\":0,\"binay\":0}\n",
    "to={\"aniket\":\"aniketthakurcse@gmail.com\",\"binay\":\"aniketthakur825@gmail.com\"}\n",
    "subject=\"COVID-19 Mask Rule Violated by YOU!\"\n",
    "body=\"Dear Student,\\nYou have been found violating rule by not wearning a mask! Pleasure ensure safety protocol is being folllowed by you.\"\n",
    "\n",
    "\n",
    "def decrease_time(rec):\n",
    "    print(\"\\n\"+str(rec) +\" is released...\\n\")\n",
    "    detect[rec]=0\n",
    "    flag[rec]=0\n",
    "def speak_message(audio):\n",
    "    engine.say(audio)\n",
    "    engine.runAndWait()\n",
    "\n",
    "def message(rec):\n",
    "    if flag[rec]==0 :  # message yet not send\n",
    "        current_time=datetime.datetime.now().strftime(\"%H:%M:%S\") \n",
    "        print(\"\\nmessage sent to \" + rec+\".... at \"+ str(current_time))\n",
    "\n",
    "#         email_alert(subject,body,to[rec])\n",
    "    \n",
    "        flag[rec]=1\n",
    "        count[rec]+=1\n",
    "        detect[rec]=0\n",
    "        delay=180                    #second\n",
    "        thread_start=threading.Timer(delay,decrease_time,[rec])\n",
    "        thread_start.start()\n",
    "        \n",
    "        \n",
    "def call_message(rec):\n",
    "    if flag[rec]==0:\n",
    "        message(rec)"
   ]
  },
  {
   "cell_type": "code",
   "execution_count": 7,
   "metadata": {},
   "outputs": [
    {
     "data": {
      "text/plain": [
       "({'aniket': 0, 'binay': 0}, {'aniket': 0, 'binay': 0})"
      ]
     },
     "execution_count": 7,
     "metadata": {},
     "output_type": "execute_result"
    }
   ],
   "source": [
    "flag,count"
   ]
  },
  {
   "cell_type": "code",
   "execution_count": 8,
   "metadata": {},
   "outputs": [],
   "source": [
    "def recog_face(frame,faceNet,recogNet):\n",
    "    # detect faces in the frame and determine if they are wearing a\n",
    "    # face mask or no\n",
    "    (locs, preds) = detect_and_predict_mask(frame, faceNet,recogNet)\n",
    "    # loop over the detected face locations and their corresponding\n",
    "    # locations\n",
    "    for (box, pred) in zip(locs, preds):\n",
    "        # unpack the bounding box and predictions\n",
    "        (startX, startY, endX, endY) = box\n",
    "        (aniket,binay) = pred\n",
    "\n",
    "# determine the class label and color we'll use to draw\n",
    "        # the bounding box and text\n",
    "        if aniket>0.80:\n",
    "            label=\"aniket\"\n",
    "        elif binay>0.80:\n",
    "            label=\"binay\"\n",
    "        #elif margiv>0.80:\n",
    "            #label=\"shahnawaz\"\n",
    "        #elif shital>0.80:\n",
    "            #label=\"tunavi\"\n",
    "        else:\n",
    "            label=\"Not Found\"\n",
    "        \n",
    "        if label != \"Not Found\": \n",
    "            detect[label]+=1\n",
    "            if detect[label]>15:\n",
    "    #             print(label+\" is fouded for\"+ str(detect[label])+\" time\")\n",
    "                call_message(label)\n",
    "        \n",
    "            print(label+\" is fouded for\"+ str(detect[label])+\" time\")\n",
    "            \n",
    "        \n",
    "# label = \"Mask\" if akshit >  else \"No Mask\"\n",
    "# color = (0, 255, 0) if label == \"Mask\" else (0, 0, 255)\n",
    "\n",
    "        # include the probability in the label\n",
    "        label = \"{}: {:.2f}%\".format(label, max(aniket,binay) * 100)\n",
    "        return label\n",
    "       "
   ]
  },
  {
   "cell_type": "code",
   "execution_count": null,
   "metadata": {},
   "outputs": [
    {
     "name": "stdout",
     "output_type": "stream",
     "text": [
      "[INFO] starting video stream...\n"
     ]
    }
   ],
   "source": [
    "# initialize the video stream\n",
    "print(\"[INFO] starting video stream...\")\n",
    "vs = VideoStream(src=0).start()\n",
    "\n",
    "# loop over the frames from the video stream\n",
    "while True:\n",
    "    # grab the frame from the threaded video stream and resize it\n",
    "    # to have a maximum width of 400 pixels\n",
    "    frame = vs.read()\n",
    "    frame = imutils.resize(frame, width=600)\n",
    "\n",
    "    # detect faces in the frame and determine if they are wearing a\n",
    "    # face mask or not\n",
    "    (locs, preds) = detect_and_predict_mask(frame, faceNet, maskNet)\n",
    "\n",
    "    # loop over the detected face locations and their corresponding\n",
    "    # locations\n",
    "    for (box, pred) in zip(locs, preds):\n",
    "        # unpack the bounding box and predictions\n",
    "        (startX, startY, endX, endY) = box\n",
    "        (mask, withoutMask) = pred\n",
    "\n",
    "# determine the class label and color we'll use to draw\n",
    "# the bounding box and text\n",
    "        label1 = \"Mask\" if mask > withoutMask else \"No Mask\"\n",
    "        color = (0, 255, 0) if label1 == \"Mask\" else (0, 0, 255)\n",
    "        \n",
    "        if label1==\"No Mask\":\n",
    "            label_recog=recog_face(frame,faceNet,recogNet)\n",
    "            cv2.putText(frame, label_recog, (startX, endY +15),cv2.FONT_HERSHEY_SIMPLEX, 0.45, (255, 0, 0), 2)\n",
    "       \n",
    "        # include the probability in the label\n",
    "        label1 = \"{}: {:.2f}%\".format(label1, max(mask, withoutMask) * 100)\n",
    "    \n",
    "        # display the label and bounding box rectangle on the output\n",
    "        # frame\n",
    "        cv2.putText(frame, label1, (startX, startY - 10), cv2.FONT_HERSHEY_SIMPLEX, 0.45, color, 2)\n",
    "        cv2.rectangle(frame, (startX, startY), (endX, endY), color, 2)\n",
    "\n",
    "    # show the output frame\n",
    "        cv2.imshow(\"Frame\", frame)\n",
    "#     key = cv2.waitKey(1) & 0xFF\n",
    "\n",
    "    # if the `q` key was pressed, break from the loop\n",
    "    if cv2.waitKey(10) == ord('q'):\n",
    "        break\n",
    "\n",
    "# do a bit of cleanup\n",
    "cv2.destroyAllWindows()\n",
    "vs.stop()"
   ]
  },
  {
   "cell_type": "code",
   "execution_count": null,
   "metadata": {},
   "outputs": [],
   "source": [
    "count"
   ]
  },
  {
   "cell_type": "code",
   "execution_count": null,
   "metadata": {},
   "outputs": [],
   "source": []
  }
 ],
 "metadata": {
  "kernelspec": {
   "display_name": "Python 3",
   "language": "python",
   "name": "python3"
  },
  "language_info": {
   "codemirror_mode": {
    "name": "ipython",
    "version": 3
   },
   "file_extension": ".py",
   "mimetype": "text/x-python",
   "name": "python",
   "nbconvert_exporter": "python",
   "pygments_lexer": "ipython3",
   "version": "3.8.8"
  }
 },
 "nbformat": 4,
 "nbformat_minor": 4
}
